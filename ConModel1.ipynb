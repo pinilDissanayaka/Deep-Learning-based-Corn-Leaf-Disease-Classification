{
 "cells": [
  {
   "cell_type": "code",
   "execution_count": 1,
   "id": "5e5b1fab",
   "metadata": {},
   "outputs": [],
   "source": [
    "from tensorflow.keras.models import Sequential\n",
    "from tensorflow.keras.callbacks import EarlyStopping\n",
    "from tensorflow.keras.layers import Conv2D, Dense, Dropout, BatchNormalization, MaxPooling2D, Flatten, Rescaling, InputLayer\n",
    "from tensorflow.keras.preprocessing.image import ImageDataGenerator"
   ]
  },
  {
   "cell_type": "code",
   "execution_count": 2,
   "id": "635ae5d2",
   "metadata": {},
   "outputs": [],
   "source": [
    "root_dir = \"hk\"\n",
    "train_dir = root_dir + \"/\" + \"train\"\n",
    "tetst_dir = root_dir + \"/\" + \"test\""
   ]
  },
  {
   "cell_type": "code",
   "execution_count": 3,
   "id": "f2d5160f",
   "metadata": {},
   "outputs": [],
   "source": [
    "IMG_SIZE = [224, 224, 3]\n",
    "OUT_SIZE = 12"
   ]
  },
  {
   "cell_type": "code",
   "execution_count": null,
   "id": "93ae8990",
   "metadata": {},
   "outputs": [],
   "source": [
    "train_gen = ImageDataGenerator(rotation_range=0.9,\n",
    "                               rescale= 1./255,\n",
    "                                width_shift_range=0.5,\n",
    "                                height_shift_range=0.6,\n",
    "                                shear_range=0.5,\n",
    "                                zoom_range=0.8)\n",
    "\n",
    "train_gen = ImageDataGenerator(rescale= 1./ 255)"
   ]
  },
  {
   "cell_type": "code",
   "execution_count": null,
   "id": "c67990c2",
   "metadata": {},
   "outputs": [],
   "source": [
    "train_df = ImageDataGenerator.flow_from_directory(directory= train_dir,\n",
    "                                                 target_size= [224, 224],\n",
    "                                                  batch_size= 32,\n",
    "                                                 class_mode= 'categorical')\n",
    "\n",
    "test_df = ImageDataGenerator.flow_from_directory(directory= test_dir,\n",
    "                                                 target_size= [224, 224],\n",
    "                                                  batch_size= 32,\n",
    "                                                 class_mode= 'categorical')"
   ]
  },
  {
   "cell_type": "code",
   "execution_count": 4,
   "id": "4eba2e52",
   "metadata": {},
   "outputs": [],
   "source": [
    "model = Sequential()\n",
    "\n",
    "model.add(Conv2D(filters= 32, kernel_size= (3, 3), strides= 1, padding= 'same', activation= 'relu', input_shape = IMG_SIZE))\n",
    "model.add(BatchNormalization())\n",
    "model.add(MaxPooling2D(pool_size= (2, 2), padding='same'))\n",
    "model.add(Dropout(0.2))\n",
    "\n",
    "model.add(Conv2D(filters= 64, kernel_size= (5, 5), strides= 1, padding= 'same', activation= 'relu'))\n",
    "model.add(BatchNormalization())\n",
    "model.add(MaxPooling2D(pool_size= (2, 2), padding='same'))\n",
    "model.add(Dropout(0.2))\n",
    "\n",
    "model.add(Conv2D(filters= 128, kernel_size= (3, 3), strides= 1, padding= 'same', activation= 'relu'))\n",
    "model.add(BatchNormalization())\n",
    "model.add(MaxPooling2D(pool_size= (2, 2), padding='same'))\n",
    "model.add(Dropout(0.3))\n",
    "\n",
    "model.add(Conv2D(filters= 256, kernel_size= (5, 5), strides= 1, padding= 'same', activation= 'relu'))\n",
    "model.add(BatchNormalization())\n",
    "model.add(MaxPooling2D(pool_size= (2, 2), padding='same'))\n",
    "model.add(Dropout(0.2))\n",
    "\n",
    "model.add(Conv2D(filters= 512, kernel_size= (3, 3), strides= 1, padding= 'same', activation= 'relu'))\n",
    "model.add(BatchNormalization())\n",
    "model.add(MaxPooling2D(pool_size= (2, 2), padding='same'))\n",
    "model.add(Dropout(0.3))\n",
    "\n",
    "\n",
    "model.add(Flatten())\n",
    "model.add(Dense(units= 1024, activation= 'relu'))\n",
    "model.add(Dense(units= OUT_SIZE, activation= 'softmax'))"
   ]
  },
  {
   "cell_type": "code",
   "execution_count": 5,
   "id": "94cb481e",
   "metadata": {},
   "outputs": [
    {
     "name": "stdout",
     "output_type": "stream",
     "text": [
      "Model: \"sequential\"\n",
      "_________________________________________________________________\n",
      " Layer (type)                Output Shape              Param #   \n",
      "=================================================================\n",
      " conv2d (Conv2D)             (None, 224, 224, 32)      896       \n",
      "                                                                 \n",
      " batch_normalization (BatchN  (None, 224, 224, 32)     128       \n",
      " ormalization)                                                   \n",
      "                                                                 \n",
      " max_pooling2d (MaxPooling2D  (None, 112, 112, 32)     0         \n",
      " )                                                               \n",
      "                                                                 \n",
      " dropout (Dropout)           (None, 112, 112, 32)      0         \n",
      "                                                                 \n",
      " conv2d_1 (Conv2D)           (None, 112, 112, 64)      51264     \n",
      "                                                                 \n",
      " batch_normalization_1 (Batc  (None, 112, 112, 64)     256       \n",
      " hNormalization)                                                 \n",
      "                                                                 \n",
      " max_pooling2d_1 (MaxPooling  (None, 56, 56, 64)       0         \n",
      " 2D)                                                             \n",
      "                                                                 \n",
      " dropout_1 (Dropout)         (None, 56, 56, 64)        0         \n",
      "                                                                 \n",
      " conv2d_2 (Conv2D)           (None, 56, 56, 128)       73856     \n",
      "                                                                 \n",
      " batch_normalization_2 (Batc  (None, 56, 56, 128)      512       \n",
      " hNormalization)                                                 \n",
      "                                                                 \n",
      " max_pooling2d_2 (MaxPooling  (None, 28, 28, 128)      0         \n",
      " 2D)                                                             \n",
      "                                                                 \n",
      " dropout_2 (Dropout)         (None, 28, 28, 128)       0         \n",
      "                                                                 \n",
      " conv2d_3 (Conv2D)           (None, 28, 28, 256)       819456    \n",
      "                                                                 \n",
      " batch_normalization_3 (Batc  (None, 28, 28, 256)      1024      \n",
      " hNormalization)                                                 \n",
      "                                                                 \n",
      " max_pooling2d_3 (MaxPooling  (None, 14, 14, 256)      0         \n",
      " 2D)                                                             \n",
      "                                                                 \n",
      " dropout_3 (Dropout)         (None, 14, 14, 256)       0         \n",
      "                                                                 \n",
      " conv2d_4 (Conv2D)           (None, 14, 14, 512)       1180160   \n",
      "                                                                 \n",
      " batch_normalization_4 (Batc  (None, 14, 14, 512)      2048      \n",
      " hNormalization)                                                 \n",
      "                                                                 \n",
      " max_pooling2d_4 (MaxPooling  (None, 7, 7, 512)        0         \n",
      " 2D)                                                             \n",
      "                                                                 \n",
      " dropout_4 (Dropout)         (None, 7, 7, 512)         0         \n",
      "                                                                 \n",
      " flatten (Flatten)           (None, 25088)             0         \n",
      "                                                                 \n",
      " dense (Dense)               (None, 1024)              25691136  \n",
      "                                                                 \n",
      " dense_1 (Dense)             (None, 12)                12300     \n",
      "                                                                 \n",
      "=================================================================\n",
      "Total params: 27,833,036\n",
      "Trainable params: 27,831,052\n",
      "Non-trainable params: 1,984\n",
      "_________________________________________________________________\n"
     ]
    }
   ],
   "source": [
    "model.summary()"
   ]
  },
  {
   "cell_type": "code",
   "execution_count": 6,
   "id": "4ec79a85",
   "metadata": {},
   "outputs": [],
   "source": [
    "model.compile(optimizer='adam', loss= 'categorical_crossentropy',\n",
    "             metrics=['acc'])"
   ]
  },
  {
   "cell_type": "code",
   "execution_count": 7,
   "id": "89790286",
   "metadata": {},
   "outputs": [],
   "source": [
    "earlystopping = EarlyStopping(monitor='val_loss', patience= 1, verbose=1)"
   ]
  },
  {
   "cell_type": "code",
   "execution_count": null,
   "id": "1b2787e4",
   "metadata": {},
   "outputs": [],
   "source": [
    "model_hist = model.fit_generator(train_df,\n",
    "                                validation_data=test_df,\n",
    "                                epochs=20,\n",
    "                                steps_per_epochs= len(train_df),\n",
    "                                validation_steps= len(test_df),\n",
    "                                callbacks = [earlysyoping])"
   ]
  },
  {
   "cell_type": "code",
   "execution_count": null,
   "id": "561b54ad",
   "metadata": {},
   "outputs": [],
   "source": []
  }
 ],
 "metadata": {
  "kernelspec": {
   "display_name": "Python 3 (ipykernel)",
   "language": "python",
   "name": "python3"
  },
  "language_info": {
   "codemirror_mode": {
    "name": "ipython",
    "version": 3
   },
   "file_extension": ".py",
   "mimetype": "text/x-python",
   "name": "python",
   "nbconvert_exporter": "python",
   "pygments_lexer": "ipython3",
   "version": "3.10.9"
  }
 },
 "nbformat": 4,
 "nbformat_minor": 5
}
