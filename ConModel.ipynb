{
  "cells": [
    {
      "cell_type": "markdown",
      "metadata": {
        "id": "view-in-github",
        "colab_type": "text"
      },
      "source": [
        "<a href=\"https://colab.research.google.com/github/pinilDissanayaka/Deep-Learning-based-Corn-Leaf-Disease-Classification/blob/main/ConModel.ipynb\" target=\"_parent\"><img src=\"https://colab.research.google.com/assets/colab-badge.svg\" alt=\"Open In Colab\"/></a>"
      ]
    },
    {
      "cell_type": "code",
      "execution_count": null,
      "id": "5e5b1fab",
      "metadata": {
        "id": "5e5b1fab"
      },
      "outputs": [],
      "source": [
        "from tensorflow.keras.models import Sequential\n",
        "from tensorflow.keras.layers import Conv2D, Dense, Dropout, BatchNormalization, MaxPooling2D, Flatten, Rescaling, InputLayer\n",
        "from tensorflow.keras.preprocessing.image import ImageDataGenerator"
      ]
    },
    {
      "cell_type": "code",
      "execution_count": null,
      "id": "f2d5160f",
      "metadata": {
        "id": "f2d5160f"
      },
      "outputs": [],
      "source": [
        "IMG_SIZE = [224, 224, 3]\n",
        "OUT_SIZE = 12"
      ]
    },
    {
      "cell_type": "code",
      "execution_count": null,
      "id": "4eba2e52",
      "metadata": {
        "id": "4eba2e52"
      },
      "outputs": [],
      "source": [
        "model = Sequential()\n",
        "\n",
        "model.add(InputLayer(input_shape= IMG_SIZE))\n",
        "model.add(Rescaling(1/225))\n",
        "model.add(Conv2D(filters= 512, kernel_size= (5, 5), strides= 1, padding= 'same', activation= 'relu'))\n",
        "model.add(BatchNormalization())\n",
        "model.add(Conv2D(filters= 512, kernel_size= (5, 5), strides= 1, padding= 'same', activation= 'relu'))\n",
        "model.add(Dropout(0.2))\n",
        "model.add(MaxPooling2D(pool_size= (3, 3), strides= 1))\n",
        "model.add(Conv2D(filters= 256, kernel_size= (5, 5), strides= 1, padding= 'same', activation= 'relu'))\n",
        "model.add(BatchNormalization())\n",
        "model.add(Conv2D(filters= 256, kernel_size= (5, 5), strides= 1, padding= 'same', activation= 'relu'))\n",
        "model.add(Dropout(0.2))\n",
        "model.add(MaxPooling2D(pool_size= (3, 3), strides= 1))\n",
        "model.add(Conv2D(filters= 128, kernel_size= (5, 5), strides= 1, padding= 'same', activation= 'relu'))\n",
        "model.add(BatchNormalization())\n",
        "model.add(Conv2D(filters= 128, kernel_size= (5, 5), strides= 1, padding= 'same', activation= 'relu'))\n",
        "model.add(Dropout(0.2))\n",
        "model.add(MaxPooling2D(pool_size= (3, 3), strides= 1))\n",
        "model.add(Conv2D(filters= 64, kernel_size= (5, 5), strides= 1, padding= 'same', activation= 'relu'))\n",
        "model.add(BatchNormalization())\n",
        "model.add(Conv2D(filters= 64, kernel_size= (5, 5), strides= 1, padding= 'same', activation= 'relu'))\n",
        "model.add(Dropout(0.2))\n",
        "model.add(MaxPooling2D(pool_size= (3, 3), strides= 1))\n",
        "model.add(Conv2D(filters= 32, kernel_size= (5, 5), strides= 1, padding= 'same', activation= 'relu'))\n",
        "model.add(BatchNormalization())\n",
        "model.add(Conv2D(filters= 32, kernel_size= (5, 5), strides= 1, padding= 'same', activation= 'relu'))\n",
        "model.add(Dropout(0.2))\n",
        "model.add(MaxPooling2D(pool_size= (3, 3), strides= 1))\n",
        "model.add(Conv2D(filters= 16, kernel_size= (5, 5), strides= 1, padding= 'same', activation= 'relu'))\n",
        "model.add(BatchNormalization())\n",
        "model.add(Conv2D(filters= 16, kernel_size= (5, 5), strides= 1, padding= 'same', activation= 'relu'))\n",
        "model.add(Dropout(0.2))\n",
        "model.add(MaxPooling2D(pool_size= (3, 3), strides= 1))\n",
        "model.add(Conv2D(filters= 8, kernel_size= (5, 5), strides= 1, padding= 'same', activation= 'relu'))\n",
        "model.add(BatchNormalization())\n",
        "model.add(Conv2D(filters= 8, kernel_size= (5, 5), strides= 1, padding= 'same', activation= 'relu'))\n",
        "model.add(Dropout(0.2))\n",
        "model.add(MaxPooling2D(pool_size= (3, 3), strides= 1))\n",
        "model.add(Conv2D(filters= 4, kernel_size= (5, 5), strides= 1, padding= 'same', activation= 'relu'))\n",
        "model.add(BatchNormalization())\n",
        "model.add(Conv2D(filters= 4, kernel_size= (5, 5), strides= 1, padding= 'same', activation= 'relu'))\n",
        "model.add(Dropout(0.2))\n",
        "model.add(MaxPooling2D(pool_size= (3, 3), strides= 1))\n",
        "model.add(Flatten())\n",
        "model.add(Dense(units= 32, activation= 'relu'))\n",
        "model.add(Dense(units= 8, activation= 'relu'))\n",
        "model.add(Dense(units= OUT_SIZE, activation= 'softmax'))"
      ]
    },
    {
      "cell_type": "code",
      "execution_count": null,
      "id": "94cb481e",
      "metadata": {
        "id": "94cb481e",
        "outputId": "e4f68f1d-c4d3-4b59-cae4-1f110957fa53"
      },
      "outputs": [
        {
          "name": "stdout",
          "output_type": "stream",
          "text": [
            "Model: \"sequential_5\"\n",
            "_________________________________________________________________\n",
            " Layer (type)                Output Shape              Param #   \n",
            "=================================================================\n",
            " rescaling_1 (Rescaling)     (None, 224, 224, 3)       0         \n",
            "                                                                 \n",
            " conv2d_64 (Conv2D)          (None, 224, 224, 512)     38912     \n",
            "                                                                 \n",
            " batch_normalization_8 (Batc  (None, 224, 224, 512)    2048      \n",
            " hNormalization)                                                 \n",
            "                                                                 \n",
            " conv2d_65 (Conv2D)          (None, 224, 224, 512)     6554112   \n",
            "                                                                 \n",
            " dropout_32 (Dropout)        (None, 224, 224, 512)     0         \n",
            "                                                                 \n",
            " max_pooling2d_32 (MaxPoolin  (None, 222, 222, 512)    0         \n",
            " g2D)                                                            \n",
            "                                                                 \n",
            " conv2d_66 (Conv2D)          (None, 222, 222, 256)     3277056   \n",
            "                                                                 \n",
            " batch_normalization_9 (Batc  (None, 222, 222, 256)    1024      \n",
            " hNormalization)                                                 \n",
            "                                                                 \n",
            " conv2d_67 (Conv2D)          (None, 222, 222, 256)     1638656   \n",
            "                                                                 \n",
            " dropout_33 (Dropout)        (None, 222, 222, 256)     0         \n",
            "                                                                 \n",
            " max_pooling2d_33 (MaxPoolin  (None, 220, 220, 256)    0         \n",
            " g2D)                                                            \n",
            "                                                                 \n",
            " conv2d_68 (Conv2D)          (None, 220, 220, 128)     819328    \n",
            "                                                                 \n",
            " batch_normalization_10 (Bat  (None, 220, 220, 128)    512       \n",
            " chNormalization)                                                \n",
            "                                                                 \n",
            " conv2d_69 (Conv2D)          (None, 220, 220, 128)     409728    \n",
            "                                                                 \n",
            " dropout_34 (Dropout)        (None, 220, 220, 128)     0         \n",
            "                                                                 \n",
            " max_pooling2d_34 (MaxPoolin  (None, 218, 218, 128)    0         \n",
            " g2D)                                                            \n",
            "                                                                 \n",
            " conv2d_70 (Conv2D)          (None, 218, 218, 64)      204864    \n",
            "                                                                 \n",
            " batch_normalization_11 (Bat  (None, 218, 218, 64)     256       \n",
            " chNormalization)                                                \n",
            "                                                                 \n",
            " conv2d_71 (Conv2D)          (None, 218, 218, 64)      102464    \n",
            "                                                                 \n",
            " dropout_35 (Dropout)        (None, 218, 218, 64)      0         \n",
            "                                                                 \n",
            " max_pooling2d_35 (MaxPoolin  (None, 216, 216, 64)     0         \n",
            " g2D)                                                            \n",
            "                                                                 \n",
            " conv2d_72 (Conv2D)          (None, 216, 216, 32)      51232     \n",
            "                                                                 \n",
            " batch_normalization_12 (Bat  (None, 216, 216, 32)     128       \n",
            " chNormalization)                                                \n",
            "                                                                 \n",
            " conv2d_73 (Conv2D)          (None, 216, 216, 32)      25632     \n",
            "                                                                 \n",
            " dropout_36 (Dropout)        (None, 216, 216, 32)      0         \n",
            "                                                                 \n",
            " max_pooling2d_36 (MaxPoolin  (None, 214, 214, 32)     0         \n",
            " g2D)                                                            \n",
            "                                                                 \n",
            " conv2d_74 (Conv2D)          (None, 214, 214, 16)      12816     \n",
            "                                                                 \n",
            " batch_normalization_13 (Bat  (None, 214, 214, 16)     64        \n",
            " chNormalization)                                                \n",
            "                                                                 \n",
            " conv2d_75 (Conv2D)          (None, 214, 214, 16)      6416      \n",
            "                                                                 \n",
            " dropout_37 (Dropout)        (None, 214, 214, 16)      0         \n",
            "                                                                 \n",
            " max_pooling2d_37 (MaxPoolin  (None, 212, 212, 16)     0         \n",
            " g2D)                                                            \n",
            "                                                                 \n",
            " conv2d_76 (Conv2D)          (None, 212, 212, 8)       3208      \n",
            "                                                                 \n",
            " batch_normalization_14 (Bat  (None, 212, 212, 8)      32        \n",
            " chNormalization)                                                \n",
            "                                                                 \n",
            " conv2d_77 (Conv2D)          (None, 212, 212, 8)       1608      \n",
            "                                                                 \n",
            " dropout_38 (Dropout)        (None, 212, 212, 8)       0         \n",
            "                                                                 \n",
            " max_pooling2d_38 (MaxPoolin  (None, 210, 210, 8)      0         \n",
            " g2D)                                                            \n",
            "                                                                 \n",
            " conv2d_78 (Conv2D)          (None, 210, 210, 4)       804       \n",
            "                                                                 \n",
            " batch_normalization_15 (Bat  (None, 210, 210, 4)      16        \n",
            " chNormalization)                                                \n",
            "                                                                 \n",
            " conv2d_79 (Conv2D)          (None, 210, 210, 4)       404       \n",
            "                                                                 \n",
            " dropout_39 (Dropout)        (None, 210, 210, 4)       0         \n",
            "                                                                 \n",
            " max_pooling2d_39 (MaxPoolin  (None, 208, 208, 4)      0         \n",
            " g2D)                                                            \n",
            "                                                                 \n",
            " flatten_4 (Flatten)         (None, 173056)            0         \n",
            "                                                                 \n",
            " dense_11 (Dense)            (None, 32)                5537824   \n",
            "                                                                 \n",
            " dense_12 (Dense)            (None, 8)                 264       \n",
            "                                                                 \n",
            " dense_13 (Dense)            (None, 12)                108       \n",
            "                                                                 \n",
            "=================================================================\n",
            "Total params: 18,689,516\n",
            "Trainable params: 18,687,476\n",
            "Non-trainable params: 2,040\n",
            "_________________________________________________________________\n"
          ]
        }
      ],
      "source": [
        "model.summary()"
      ]
    },
    {
      "cell_type": "code",
      "execution_count": null,
      "id": "93ae8990",
      "metadata": {
        "id": "93ae8990"
      },
      "outputs": [],
      "source": []
    }
  ],
  "metadata": {
    "kernelspec": {
      "display_name": "Python 3 (ipykernel)",
      "language": "python",
      "name": "python3"
    },
    "language_info": {
      "codemirror_mode": {
        "name": "ipython",
        "version": 3
      },
      "file_extension": ".py",
      "mimetype": "text/x-python",
      "name": "python",
      "nbconvert_exporter": "python",
      "pygments_lexer": "ipython3",
      "version": "3.10.9"
    },
    "colab": {
      "provenance": [],
      "include_colab_link": true
    }
  },
  "nbformat": 4,
  "nbformat_minor": 5
}